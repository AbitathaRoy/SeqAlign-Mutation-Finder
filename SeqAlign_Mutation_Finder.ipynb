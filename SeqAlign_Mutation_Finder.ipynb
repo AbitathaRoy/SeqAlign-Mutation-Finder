{
  "nbformat": 4,
  "nbformat_minor": 0,
  "metadata": {
    "colab": {
      "provenance": [],
      "authorship_tag": "ABX9TyPtehlXf33EtXbH85AbbTsl",
      "include_colab_link": true
    },
    "kernelspec": {
      "name": "python3",
      "display_name": "Python 3"
    },
    "language_info": {
      "name": "python"
    }
  },
  "cells": [
    {
      "cell_type": "markdown",
      "metadata": {
        "id": "view-in-github",
        "colab_type": "text"
      },
      "source": [
        "<a href=\"https://colab.research.google.com/github/AbitathaRoy/SeqAlign-Mutation-Finder/blob/main/SeqAlign_Mutation_Finder.ipynb\" target=\"_parent\"><img src=\"https://colab.research.google.com/assets/colab-badge.svg\" alt=\"Open In Colab\"/></a>"
      ]
    },
    {
      "cell_type": "markdown",
      "source": [
        "# Install BioPython"
      ],
      "metadata": {
        "id": "ZTOC6HdT00rI"
      }
    },
    {
      "cell_type": "code",
      "execution_count": null,
      "metadata": {
        "id": "rSm_xymI0kbD"
      },
      "outputs": [],
      "source": [
        "!pip install biopython"
      ]
    },
    {
      "cell_type": "markdown",
      "source": [
        "# Import Modules"
      ],
      "metadata": {
        "id": "jSG3pJl708wc"
      }
    },
    {
      "cell_type": "code",
      "source": [
        "from Bio import SeqIO\n",
        "from Bio.Align import PairwiseAligner"
      ],
      "metadata": {
        "id": "3ARKsvAo0_Og"
      },
      "execution_count": null,
      "outputs": []
    },
    {
      "cell_type": "markdown",
      "source": [
        "# Load Sequences"
      ],
      "metadata": {
        "id": "uxvpTQ_X04fb"
      }
    },
    {
      "cell_type": "code",
      "source": [
        "# Load sequences from FASTA files\n",
        "def read_fasta(filename):\n",
        "    record = SeqIO.read(filename, \"fasta\")\n",
        "    return record.seq\n",
        "\n",
        "reference_seq = read_fasta(\"reference.fna\")  # replace with your reference file\n",
        "target_seq = read_fasta(\"target.fna\")  # Replace with your target file\n"
      ],
      "metadata": {
        "id": "y1OY1lIn0zwf"
      },
      "execution_count": null,
      "outputs": []
    },
    {
      "cell_type": "markdown",
      "source": [
        "# Sequence Alignment"
      ],
      "metadata": {
        "id": "fy3eQSn42Z2K"
      }
    },
    {
      "cell_type": "code",
      "source": [
        "# Initialize aligner\n",
        "aligner = PairwiseAligner()\n",
        "aligner.mode = 'global'  # Use global alignment (Needleman-Wunsch)\n",
        "aligner.match_score = 1\n",
        "aligner.mismatch_score = -1\n",
        "aligner.open_gap_score = -2\n",
        "aligner.extend_gap_score = -1\n",
        "\n",
        "# Perform alignment\n",
        "alignments = aligner.align(reference_seq, target_seq)\n",
        "\n",
        "# Print the best alignment\n",
        "print(alignments[0])\n"
      ],
      "metadata": {
        "id": "3WHzFZ0T2dWf"
      },
      "execution_count": null,
      "outputs": []
    },
    {
      "cell_type": "markdown",
      "source": [
        "# Mutations and Insertions/Deletions"
      ],
      "metadata": {
        "id": "5rfV_JFk5TQ2"
      }
    },
    {
      "cell_type": "code",
      "source": [
        "# list mutations and insertions/deletions\n",
        "\n",
        "# Extract aligned sequences\n",
        "aligned_ref = alignments[0][0]\n",
        "aligned_target = alignments[0][1]\n",
        "\n",
        "# Dictionaries to store mutations and insertions/deletions\n",
        "mutations = {}  # Format: {position: (reference_base, target_base)}\n",
        "indels = {}     # Format: {position: (reference_base, target_base)}\n",
        "\n",
        "# Process alignment results\n",
        "for i in range(len(aligned_ref)):\n",
        "    ref_base = aligned_ref[i]\n",
        "    target_base = aligned_target[i]\n",
        "\n",
        "    if ref_base != target_base:\n",
        "        if ref_base == \"-\":  # Insertion in target\n",
        "            indels[i + 1] = (ref_base, target_base)\n",
        "        elif target_base == \"-\":  # Deletion in target\n",
        "            indels[i + 1] = (ref_base, target_base)\n",
        "        else:  # Substitution (Mutation)\n",
        "            mutations[i + 1] = (ref_base, target_base)\n",
        "\n",
        "# Print differences\n",
        "def display_changes():\n",
        "  print(\"Mutations:\")\n",
        "  for key in sorted(mutations):\n",
        "    print(f\"Position {key}: {mutations[key][0]} → {mutations[key][1]}\")\n",
        "\n",
        "  print(\"\\nIndels:\")\n",
        "  for key in sorted(indels):\n",
        "    print(f\"Position {key}: {indels[key][0]} → {indels[key][1]}\")\n",
        "\n",
        "def displayChangedSequence(mutatedList, start, end):\n",
        "  referenceMutation = \"\"\n",
        "  targetMutation = \"\"\n",
        "  for i in range(len(mutatedList)):\n",
        "    referenceMutation += mutatedList[i][0]\n",
        "    targetMutation += mutatedList[i][1]\n",
        "    # print(i)\n",
        "\n",
        "  output = f\"Position {start} to {end}: {referenceMutation} → {targetMutation}\"\n",
        "  print(output)\n",
        "  return output\n",
        "\n",
        "\n",
        "def displayChanges():\n",
        "  # initialise trackers\n",
        "  flag = -1\n",
        "  start = None\n",
        "  end = None\n",
        "  prevKey = None\n",
        "  mutatedList = []\n",
        "\n",
        "  with open(\"mutations_output.txt\", \"w\") as file:\n",
        "    file.write(\"Mutations:\\n\")\n",
        "    print(\"Mutations:\")\n",
        "\n",
        "    for key in sorted(mutations):\n",
        "      if flag == -1:\n",
        "        flag = 0\n",
        "        start = key\n",
        "      if prevKey != None and key - prevKey == 1:\n",
        "        mutatedList.append((mutations[key][0], mutations[key][1]))\n",
        "      else:\n",
        "        end = prevKey\n",
        "        if bool(mutatedList) == True:\n",
        "          output = displayChangedSequence(mutatedList, start, end)\n",
        "          file.write(output + \"\\n\")\n",
        "        start = key\n",
        "        mutatedList = [(mutations[key][0], mutations[key][1])]\n",
        "\n",
        "      prevKey = key\n",
        "\n",
        "    flag = -1\n",
        "\n",
        "    file.write(\"\\nIndels:\\n\")\n",
        "    print(\"\\nIndels:\")\n",
        "    for key in sorted(indels):\n",
        "      if flag == -1:\n",
        "        flag = 0\n",
        "        start = key\n",
        "      if prevKey != None and key - prevKey == 1:\n",
        "        mutatedList.append((indels[key][0], indels[key][1]))\n",
        "      else:\n",
        "        end = prevKey\n",
        "        if bool(mutatedList) == True:\n",
        "          output = displayChangedSequence(mutatedList, start, end)\n",
        "          file.write(output + \"\\n\")\n",
        "        start = key\n",
        "        mutatedList = [(indels[key][0], indels[key][1])]\n",
        "\n",
        "      prevKey = key\n",
        "\n",
        "    if mutatedList:\n",
        "      output = displayChangedSequence(mutatedList, start, prevKey)\n",
        "      file.write(output + \"\\n\")\n",
        "\n",
        "displayChanges()"
      ],
      "metadata": {
        "id": "sJFRKDri4x08"
      },
      "execution_count": null,
      "outputs": []
    }
  ]
}